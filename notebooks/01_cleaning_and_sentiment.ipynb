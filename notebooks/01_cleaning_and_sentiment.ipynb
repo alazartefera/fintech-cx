{
 "cells": [
  {
   "cell_type": "code",
   "execution_count": 5,
   "id": "9b861ed0",
   "metadata": {},
   "outputs": [],
   "source": [
    "import pandas as pd\n",
    "import numpy as np\n",
    "import re\n",
    "import string\n",
    "import seaborn as sns\n",
    "import matplotlib.pyplot as plt\n",
    "from sklearn.model_selection import train_test_split\n",
    "from sklearn.feature_extraction.text import TfidfVectorizer\n",
    "from sklearn.linear_model import LogisticRegression\n",
    "from sklearn.metrics import classification_report, confusion_matrix\n"
   ]
  },
  {
   "cell_type": "code",
   "execution_count": 6,
   "id": "a2a04e4f",
   "metadata": {},
   "outputs": [
    {
     "data": {
      "text/html": [
       "<div>\n",
       "<style scoped>\n",
       "    .dataframe tbody tr th:only-of-type {\n",
       "        vertical-align: middle;\n",
       "    }\n",
       "\n",
       "    .dataframe tbody tr th {\n",
       "        vertical-align: top;\n",
       "    }\n",
       "\n",
       "    .dataframe thead th {\n",
       "        text-align: right;\n",
       "    }\n",
       "</style>\n",
       "<table border=\"1\" class=\"dataframe\">\n",
       "  <thead>\n",
       "    <tr style=\"text-align: right;\">\n",
       "      <th></th>\n",
       "      <th>review</th>\n",
       "      <th>rating</th>\n",
       "      <th>date</th>\n",
       "      <th>bank</th>\n",
       "      <th>source</th>\n",
       "    </tr>\n",
       "  </thead>\n",
       "  <tbody>\n",
       "    <tr>\n",
       "      <th>0</th>\n",
       "      <td>good</td>\n",
       "      <td>5</td>\n",
       "      <td>2025-06-03 11:32:52</td>\n",
       "      <td>CBE</td>\n",
       "      <td>Google Play</td>\n",
       "    </tr>\n",
       "    <tr>\n",
       "      <th>1</th>\n",
       "      <td>it is not safety</td>\n",
       "      <td>1</td>\n",
       "      <td>2025-06-03 09:14:31</td>\n",
       "      <td>CBE</td>\n",
       "      <td>Google Play</td>\n",
       "    </tr>\n",
       "    <tr>\n",
       "      <th>2</th>\n",
       "      <td>NICE bank</td>\n",
       "      <td>5</td>\n",
       "      <td>2025-06-03 08:42:36</td>\n",
       "      <td>CBE</td>\n",
       "      <td>Google Play</td>\n",
       "    </tr>\n",
       "    <tr>\n",
       "      <th>3</th>\n",
       "      <td>abdii.abas ab.musa</td>\n",
       "      <td>3</td>\n",
       "      <td>2025-06-02 14:46:11</td>\n",
       "      <td>CBE</td>\n",
       "      <td>Google Play</td>\n",
       "    </tr>\n",
       "    <tr>\n",
       "      <th>4</th>\n",
       "      <td>it is like a childish app make it better the w...</td>\n",
       "      <td>1</td>\n",
       "      <td>2025-06-02 12:23:42</td>\n",
       "      <td>CBE</td>\n",
       "      <td>Google Play</td>\n",
       "    </tr>\n",
       "  </tbody>\n",
       "</table>\n",
       "</div>"
      ],
      "text/plain": [
       "                                              review  rating  \\\n",
       "0                                               good       5   \n",
       "1                                   it is not safety       1   \n",
       "2                                          NICE bank       5   \n",
       "3                                 abdii.abas ab.musa       3   \n",
       "4  it is like a childish app make it better the w...       1   \n",
       "\n",
       "                  date bank       source  \n",
       "0  2025-06-03 11:32:52  CBE  Google Play  \n",
       "1  2025-06-03 09:14:31  CBE  Google Play  \n",
       "2  2025-06-03 08:42:36  CBE  Google Play  \n",
       "3  2025-06-02 14:46:11  CBE  Google Play  \n",
       "4  2025-06-02 12:23:42  CBE  Google Play  "
      ]
     },
     "execution_count": 6,
     "metadata": {},
     "output_type": "execute_result"
    }
   ],
   "source": [
    "df = pd.read_csv(\"../data/fintech_reviews.csv\")\n",
    "df.head()\n"
   ]
  },
  {
   "cell_type": "code",
   "execution_count": 7,
   "id": "e6c9500b",
   "metadata": {},
   "outputs": [
    {
     "name": "stdout",
     "output_type": "stream",
     "text": [
      "<class 'pandas.core.frame.DataFrame'>\n",
      "RangeIndex: 1447 entries, 0 to 1446\n",
      "Data columns (total 5 columns):\n",
      " #   Column  Non-Null Count  Dtype \n",
      "---  ------  --------------  ----- \n",
      " 0   review  1447 non-null   object\n",
      " 1   rating  1447 non-null   int64 \n",
      " 2   date    1447 non-null   object\n",
      " 3   bank    1447 non-null   object\n",
      " 4   source  1447 non-null   object\n",
      "dtypes: int64(1), object(4)\n",
      "memory usage: 56.7+ KB\n"
     ]
    },
    {
     "data": {
      "text/plain": [
       "review    0\n",
       "rating    0\n",
       "date      0\n",
       "bank      0\n",
       "source    0\n",
       "dtype: int64"
      ]
     },
     "execution_count": 7,
     "metadata": {},
     "output_type": "execute_result"
    }
   ],
   "source": [
    "df.info()\n",
    "df.isnull().sum()\n"
   ]
  },
  {
   "cell_type": "markdown",
   "id": "a0cb4771",
   "metadata": {},
   "source": [
    "Clean the Data"
   ]
  },
  {
   "cell_type": "markdown",
   "id": "1b7a348e",
   "metadata": {},
   "source": [
    "Drop Missing or Empty Reviews\n"
   ]
  },
  {
   "cell_type": "code",
   "execution_count": 8,
   "id": "d0930230",
   "metadata": {},
   "outputs": [],
   "source": [
    "df.dropna(subset=[\"review\", \"rating\"], inplace=True)\n",
    "df = df[df[\"review\"].str.strip() != \"\"]\n"
   ]
  },
  {
   "cell_type": "markdown",
   "id": "2604977e",
   "metadata": {},
   "source": [
    "Remove Duplicates"
   ]
  },
  {
   "cell_type": "code",
   "execution_count": 9,
   "id": "d61f6c6a",
   "metadata": {},
   "outputs": [],
   "source": [
    "df.drop_duplicates(subset=[\"review\", \"rating\", \"date\", \"bank\"], inplace=True)\n"
   ]
  },
  {
   "cell_type": "markdown",
   "id": "c140a87b",
   "metadata": {},
   "source": [
    "Normalize The Date Format"
   ]
  },
  {
   "cell_type": "code",
   "execution_count": 10,
   "id": "d4903eff",
   "metadata": {},
   "outputs": [],
   "source": [
    "df[\"date\"] = pd.to_datetime(df[\"date\"])\n"
   ]
  },
  {
   "cell_type": "markdown",
   "id": "c3363cc3",
   "metadata": {},
   "source": [
    "TASK 2"
   ]
  },
  {
   "cell_type": "markdown",
   "id": "385b853e",
   "metadata": {},
   "source": [
    "Sentiment and Thematic Analysis"
   ]
  },
  {
   "cell_type": "markdown",
   "id": "72efb4e2",
   "metadata": {},
   "source": [
    "Label Sentiment"
   ]
  },
  {
   "cell_type": "code",
   "execution_count": 11,
   "id": "ca8c7adc",
   "metadata": {},
   "outputs": [],
   "source": [
    "def label_sentiment(rating):\n",
    "    if rating >= 4:\n",
    "        return \"positive\"\n",
    "    elif rating == 3:\n",
    "        return \"neutral\"\n",
    "    else:\n",
    "        return \"negative\"\n",
    "\n",
    "df[\"sentiment\"] = df[\"rating\"].apply(label_sentiment)\n"
   ]
  },
  {
   "cell_type": "markdown",
   "id": "64e01bdd",
   "metadata": {},
   "source": [
    "Text Preprocessing"
   ]
  },
  {
   "cell_type": "code",
   "execution_count": 12,
   "id": "650f2fcf",
   "metadata": {},
   "outputs": [],
   "source": [
    "def clean_text(text):\n",
    "    text = text.lower()\n",
    "    text = re.sub(r\"http\\S+|www\\S+|https\\S+\", \"\", text)\n",
    "    text = re.sub(r\"\\@w+|\\#\", \"\", text)\n",
    "    text = re.sub(r\"[^\\w\\s]\", \"\", text)\n",
    "    text = re.sub(r\"\\d+\", \"\", text)\n",
    "    text = text.strip()\n",
    "    return text\n",
    "\n",
    "df[\"clean_review\"] = df[\"review\"].apply(clean_text)\n"
   ]
  },
  {
   "cell_type": "markdown",
   "id": "a30c57e1",
   "metadata": {},
   "source": [
    "TF-IDF Vectorization"
   ]
  },
  {
   "cell_type": "code",
   "execution_count": 13,
   "id": "a75b5a7e",
   "metadata": {},
   "outputs": [],
   "source": [
    "tfidf = TfidfVectorizer(max_features=5000)\n",
    "X = tfidf.fit_transform(df[\"clean_review\"])\n",
    "y = df[\"sentiment\"]\n"
   ]
  },
  {
   "cell_type": "markdown",
   "id": "82cff07c",
   "metadata": {},
   "source": [
    "Train/Test Sentiment Model (Logistic Regression)"
   ]
  },
  {
   "cell_type": "code",
   "execution_count": 14,
   "id": "0edca7d4",
   "metadata": {},
   "outputs": [],
   "source": [
    "X_train, X_test, y_train, y_test = train_test_split(X, y, test_size=0.2, random_state=42)\n",
    "\n",
    "model = LogisticRegression(max_iter=200)\n",
    "model.fit(X_train, y_train)\n",
    "\n",
    "y_pred = model.predict(X_test)\n"
   ]
  },
  {
   "cell_type": "markdown",
   "id": "566b6705",
   "metadata": {},
   "source": [
    "Evaluation"
   ]
  },
  {
   "cell_type": "code",
   "execution_count": 15,
   "id": "d11a530c",
   "metadata": {},
   "outputs": [
    {
     "name": "stderr",
     "output_type": "stream",
     "text": [
      "c:\\Users\\ads\\Desktop\\Week 2\\fintech-cx\\venv\\Lib\\site-packages\\sklearn\\metrics\\_classification.py:1565: UndefinedMetricWarning: Precision is ill-defined and being set to 0.0 in labels with no predicted samples. Use `zero_division` parameter to control this behavior.\n",
      "  _warn_prf(average, modifier, f\"{metric.capitalize()} is\", len(result))\n",
      "c:\\Users\\ads\\Desktop\\Week 2\\fintech-cx\\venv\\Lib\\site-packages\\sklearn\\metrics\\_classification.py:1565: UndefinedMetricWarning: Precision is ill-defined and being set to 0.0 in labels with no predicted samples. Use `zero_division` parameter to control this behavior.\n",
      "  _warn_prf(average, modifier, f\"{metric.capitalize()} is\", len(result))\n",
      "c:\\Users\\ads\\Desktop\\Week 2\\fintech-cx\\venv\\Lib\\site-packages\\sklearn\\metrics\\_classification.py:1565: UndefinedMetricWarning: Precision is ill-defined and being set to 0.0 in labels with no predicted samples. Use `zero_division` parameter to control this behavior.\n",
      "  _warn_prf(average, modifier, f\"{metric.capitalize()} is\", len(result))\n"
     ]
    },
    {
     "name": "stdout",
     "output_type": "stream",
     "text": [
      "              precision    recall  f1-score   support\n",
      "\n",
      "    negative       0.85      0.59      0.70        69\n",
      "     neutral       0.00      0.00      0.00        16\n",
      "    positive       0.83      0.98      0.90       205\n",
      "\n",
      "    accuracy                           0.83       290\n",
      "   macro avg       0.56      0.52      0.53       290\n",
      "weighted avg       0.79      0.83      0.80       290\n",
      "\n"
     ]
    },
    {
     "data": {
      "image/png": "[encoded data removed]",
      "text/plain": [
       "<Figure size 640x480 with 2 Axes>"
      ]
     },
     "metadata": {},
     "output_type": "display_data"
    }
   ],
   "source": [
    "from sklearn.metrics import classification_report, confusion_matrix\n",
    "import seaborn as sns\n",
    "import matplotlib.pyplot as plt\n",
    "\n",
    "print(classification_report(y_test, y_pred))\n",
    "sns.heatmap(confusion_matrix(y_test, y_pred), annot=True, fmt=\"d\")\n",
    "plt.title(\"Confusion Matrix\")\n",
    "plt.show()"
   ]
  },
  {
   "cell_type": "code",
   "execution_count": 16,
   "id": "6ecc1da3",
   "metadata": {},
   "outputs": [],
   "source": [
    "df.to_csv(\"../data/fintech_reviews_cleaned.csv\", index=False)\n"
   ]
  },
  {
   "cell_type": "code",
   "execution_count": null,
   "id": "cd6b7a9d",
   "metadata": {},
   "outputs": [],
   "source": []
  }
 ],
 "metadata": {
  "kernelspec": {
   "display_name": "venv",
   "language": "python",
   "name": "python3"
  },
  "language_info": {
   "codemirror_mode": {
    "name": "ipython",
    "version": 3
   },
   "file_extension": ".py",
   "mimetype": "text/x-python",
   "name": "python",
   "nbconvert_exporter": "python",
   "pygments_lexer": "ipython3",
   "version": "3.13.4"
  }
 },
 "nbformat": 4,
 "nbformat_minor": 5
}
