{
 "cells": [
  {
   "cell_type": "code",
   "execution_count": 1,
   "id": "9b861ed0",
   "metadata": {},
   "outputs": [],
   "source": [
    "import pandas as pd\n",
    "import numpy as np\n",
    "import re\n",
    "import string\n",
    "import seaborn as sns\n",
    "import matplotlib.pyplot as plt\n",
    "from sklearn.model_selection import train_test_split\n",
    "from sklearn.feature_extraction.text import TfidfVectorizer\n",
    "from sklearn.linear_model import LogisticRegression\n",
    "from sklearn.metrics import classification_report, confusion_matrix\n"
   ]
  },
  {
   "cell_type": "code",
   "execution_count": 2,
   "id": "a2a04e4f",
   "metadata": {},
   "outputs": [
    {
     "data": {
      "text/html": [
       "<div>\n",
       "<style scoped>\n",
       "    .dataframe tbody tr th:only-of-type {\n",
       "        vertical-align: middle;\n",
       "    }\n",
       "\n",
       "    .dataframe tbody tr th {\n",
       "        vertical-align: top;\n",
       "    }\n",
       "\n",
       "    .dataframe thead th {\n",
       "        text-align: right;\n",
       "    }\n",
       "</style>\n",
       "<table border=\"1\" class=\"dataframe\">\n",
       "  <thead>\n",
       "    <tr style=\"text-align: right;\">\n",
       "      <th></th>\n",
       "      <th>review</th>\n",
       "      <th>rating</th>\n",
       "      <th>date</th>\n",
       "      <th>bank</th>\n",
       "      <th>source</th>\n",
       "    </tr>\n",
       "  </thead>\n",
       "  <tbody>\n",
       "    <tr>\n",
       "      <th>0</th>\n",
       "      <td>good</td>\n",
       "      <td>5</td>\n",
       "      <td>2025-06-03 11:32:52</td>\n",
       "      <td>CBE</td>\n",
       "      <td>Google Play</td>\n",
       "    </tr>\n",
       "    <tr>\n",
       "      <th>1</th>\n",
       "      <td>it is not safety</td>\n",
       "      <td>1</td>\n",
       "      <td>2025-06-03 09:14:31</td>\n",
       "      <td>CBE</td>\n",
       "      <td>Google Play</td>\n",
       "    </tr>\n",
       "    <tr>\n",
       "      <th>2</th>\n",
       "      <td>NICE bank</td>\n",
       "      <td>5</td>\n",
       "      <td>2025-06-03 08:42:36</td>\n",
       "      <td>CBE</td>\n",
       "      <td>Google Play</td>\n",
       "    </tr>\n",
       "    <tr>\n",
       "      <th>3</th>\n",
       "      <td>abdii.abas ab.musa</td>\n",
       "      <td>3</td>\n",
       "      <td>2025-06-02 14:46:11</td>\n",
       "      <td>CBE</td>\n",
       "      <td>Google Play</td>\n",
       "    </tr>\n",
       "    <tr>\n",
       "      <th>4</th>\n",
       "      <td>it is like a childish app make it better the w...</td>\n",
       "      <td>1</td>\n",
       "      <td>2025-06-02 12:23:42</td>\n",
       "      <td>CBE</td>\n",
       "      <td>Google Play</td>\n",
       "    </tr>\n",
       "  </tbody>\n",
       "</table>\n",
       "</div>"
      ],
      "text/plain": [
       "                                              review  rating  \\\n",
       "0                                               good       5   \n",
       "1                                   it is not safety       1   \n",
       "2                                          NICE bank       5   \n",
       "3                                 abdii.abas ab.musa       3   \n",
       "4  it is like a childish app make it better the w...       1   \n",
       "\n",
       "                  date bank       source  \n",
       "0  2025-06-03 11:32:52  CBE  Google Play  \n",
       "1  2025-06-03 09:14:31  CBE  Google Play  \n",
       "2  2025-06-03 08:42:36  CBE  Google Play  \n",
       "3  2025-06-02 14:46:11  CBE  Google Play  \n",
       "4  2025-06-02 12:23:42  CBE  Google Play  "
      ]
     },
     "execution_count": 2,
     "metadata": {},
     "output_type": "execute_result"
    }
   ],
   "source": [
    "df = pd.read_csv(\"../data/fintech_reviews.csv\")\n",
    "df.head()\n"
   ]
  },
  {
   "cell_type": "code",
   "execution_count": 3,
   "id": "e6c9500b",
   "metadata": {},
   "outputs": [
    {
     "name": "stdout",
     "output_type": "stream",
     "text": [
      "<class 'pandas.core.frame.DataFrame'>\n",
      "RangeIndex: 1447 entries, 0 to 1446\n",
      "Data columns (total 5 columns):\n",
      " #   Column  Non-Null Count  Dtype \n",
      "---  ------  --------------  ----- \n",
      " 0   review  1447 non-null   object\n",
      " 1   rating  1447 non-null   int64 \n",
      " 2   date    1447 non-null   object\n",
      " 3   bank    1447 non-null   object\n",
      " 4   source  1447 non-null   object\n",
      "dtypes: int64(1), object(4)\n",
      "memory usage: 56.7+ KB\n"
     ]
    },
    {
     "data": {
      "text/plain": [
       "review    0\n",
       "rating    0\n",
       "date      0\n",
       "bank      0\n",
       "source    0\n",
       "dtype: int64"
      ]
     },
     "execution_count": 3,
     "metadata": {},
     "output_type": "execute_result"
    }
   ],
   "source": [
    "df.info()\n",
    "df.isnull().sum()\n"
   ]
  },
  {
   "cell_type": "markdown",
   "id": "a0cb4771",
   "metadata": {},
   "source": [
    "Clean the Data"
   ]
  },
  {
   "cell_type": "markdown",
   "id": "1b7a348e",
   "metadata": {},
   "source": [
    "Drop Missing or Empty Reviews\n"
   ]
  },
  {
   "cell_type": "code",
   "execution_count": 4,
   "id": "d0930230",
   "metadata": {},
   "outputs": [],
   "source": [
    "df.dropna(subset=[\"review\", \"rating\"], inplace=True)\n",
    "df = df[df[\"review\"].str.strip() != \"\"]\n"
   ]
  },
  {
   "cell_type": "markdown",
   "id": "2604977e",
   "metadata": {},
   "source": [
    "Remove Duplicates"
   ]
  },
  {
   "cell_type": "code",
   "execution_count": 5,
   "id": "d61f6c6a",
   "metadata": {},
   "outputs": [],
   "source": [
    "df.drop_duplicates(subset=[\"review\", \"rating\", \"date\", \"bank\"], inplace=True)\n"
   ]
  },
  {
   "cell_type": "markdown",
   "id": "c140a87b",
   "metadata": {},
   "source": [
    "Normalize The Date Format"
   ]
  },
  {
   "cell_type": "code",
   "execution_count": 6,
   "id": "d4903eff",
   "metadata": {},
   "outputs": [],
   "source": [
    "df[\"date\"] = pd.to_datetime(df[\"date\"])\n"
   ]
  },
  {
   "cell_type": "markdown",
   "id": "c3363cc3",
   "metadata": {},
   "source": [
    "TASK 2"
   ]
  },
  {
   "cell_type": "markdown",
   "id": "385b853e",
   "metadata": {},
   "source": [
    "Sentiment and Thematic Analysis"
   ]
  },
  {
   "cell_type": "markdown",
   "id": "72efb4e2",
   "metadata": {},
   "source": [
    "Label Sentiment"
   ]
  },
  {
   "cell_type": "code",
   "execution_count": 7,
   "id": "ca8c7adc",
   "metadata": {},
   "outputs": [],
   "source": [
    "def label_sentiment(rating):\n",
    "    if rating >= 4:\n",
    "        return \"positive\"\n",
    "    elif rating == 3:\n",
    "        return \"neutral\"\n",
    "    else:\n",
    "        return \"negative\"\n",
    "\n",
    "df[\"sentiment\"] = df[\"rating\"].apply(label_sentiment)\n"
   ]
  },
  {
   "cell_type": "markdown",
   "id": "64e01bdd",
   "metadata": {},
   "source": [
    "Text Preprocessing"
   ]
  },
  {
   "cell_type": "code",
   "execution_count": 8,
   "id": "650f2fcf",
   "metadata": {},
   "outputs": [],
   "source": [
    "def clean_text(text):\n",
    "    text = text.lower()\n",
    "    text = re.sub(r\"http\\S+|www\\S+|https\\S+\", \"\", text)\n",
    "    text = re.sub(r\"\\@w+|\\#\", \"\", text)\n",
    "    text = re.sub(r\"[^\\w\\s]\", \"\", text)\n",
    "    text = re.sub(r\"\\d+\", \"\", text)\n",
    "    text = text.strip()\n",
    "    return text\n",
    "\n",
    "df[\"clean_review\"] = df[\"review\"].apply(clean_text)\n"
   ]
  },
  {
   "cell_type": "markdown",
   "id": "a30c57e1",
   "metadata": {},
   "source": [
    "TF-IDF Vectorization"
   ]
  },
  {
   "cell_type": "code",
   "execution_count": 9,
   "id": "a75b5a7e",
   "metadata": {},
   "outputs": [],
   "source": [
    "tfidf = TfidfVectorizer(max_features=5000)\n",
    "X = tfidf.fit_transform(df[\"clean_review\"])\n",
    "y = df[\"sentiment\"]\n"
   ]
  },
  {
   "cell_type": "markdown",
   "id": "82cff07c",
   "metadata": {},
   "source": [
    "Train/Test Sentiment Model (Logistic Regression)"
   ]
  },
  {
   "cell_type": "code",
   "execution_count": 10,
   "id": "0edca7d4",
   "metadata": {},
   "outputs": [],
   "source": [
    "X_train, X_test, y_train, y_test = train_test_split(X, y, test_size=0.2, random_state=42)\n",
    "\n",
    "model = LogisticRegression(max_iter=200)\n",
    "model.fit(X_train, y_train)\n",
    "\n",
    "y_pred = model.predict(X_test)\n"
   ]
  },
  {
   "cell_type": "markdown",
   "id": "566b6705",
   "metadata": {},
   "source": [
    "Evaluation"
   ]
  },
  {
   "cell_type": "code",
   "execution_count": 11,
   "id": "d11a530c",
   "metadata": {},
   "outputs": [
    {
     "name": "stderr",
     "output_type": "stream",
     "text": [
      "c:\\Users\\ads\\Desktop\\Week 2\\fintech-cx\\venv\\Lib\\site-packages\\sklearn\\metrics\\_classification.py:1565: UndefinedMetricWarning: Precision is ill-defined and being set to 0.0 in labels with no predicted samples. Use `zero_division` parameter to control this behavior.\n",
      "  _warn_prf(average, modifier, f\"{metric.capitalize()} is\", len(result))\n",
      "c:\\Users\\ads\\Desktop\\Week 2\\fintech-cx\\venv\\Lib\\site-packages\\sklearn\\metrics\\_classification.py:1565: UndefinedMetricWarning: Precision is ill-defined and being set to 0.0 in labels with no predicted samples. Use `zero_division` parameter to control this behavior.\n",
      "  _warn_prf(average, modifier, f\"{metric.capitalize()} is\", len(result))\n",
      "c:\\Users\\ads\\Desktop\\Week 2\\fintech-cx\\venv\\Lib\\site-packages\\sklearn\\metrics\\_classification.py:1565: UndefinedMetricWarning: Precision is ill-defined and being set to 0.0 in labels with no predicted samples. Use `zero_division` parameter to control this behavior.\n",
      "  _warn_prf(average, modifier, f\"{metric.capitalize()} is\", len(result))\n"
     ]
    },
    {
     "name": "stdout",
     "output_type": "stream",
     "text": [
      "              precision    recall  f1-score   support\n",
      "\n",
      "    negative       0.85      0.59      0.70        69\n",
      "     neutral       0.00      0.00      0.00        16\n",
      "    positive       0.83      0.98      0.90       205\n",
      "\n",
      "    accuracy                           0.83       290\n",
      "   macro avg       0.56      0.52      0.53       290\n",
      "weighted avg       0.79      0.83      0.80       290\n",
      "\n"
     ]
    },
    {
     "data": {
      "image/png": "[encoded data removed]",
      "text/plain": [
       "<Figure size 640x480 with 2 Axes>"
      ]
     },
     "metadata": {},
     "output_type": "display_data"
    }
   ],
   "source": [
    "from sklearn.metrics import classification_report, confusion_matrix\n",
    "import seaborn as sns\n",
    "import matplotlib.pyplot as plt\n",
    "\n",
    "print(classification_report(y_test, y_pred))\n",
    "sns.heatmap(confusion_matrix(y_test, y_pred), annot=True, fmt=\"d\")\n",
    "plt.title(\"Confusion Matrix\")\n",
    "plt.show()"
   ]
  },
  {
   "cell_type": "code",
   "execution_count": 12,
   "id": "6ecc1da3",
   "metadata": {},
   "outputs": [],
   "source": [
    "df.to_csv(\"../data/fintech_reviews_cleaned.csv\", index=False)\n"
   ]
  },
  {
   "cell_type": "markdown",
   "id": "a2e8cd46",
   "metadata": {},
   "source": [
    " Sentiment Distribution"
   ]
  },
  {
   "cell_type": "code",
   "execution_count": 13,
   "id": "cd6b7a9d",
   "metadata": {},
   "outputs": [
    {
     "name": "stdout",
     "output_type": "stream",
     "text": [
      "Current directory: c:\\Users\\ads\\Desktop\\Week 2\\fintech-cx\\notebooks\n",
      "Files in directory: ['01_cleaning_and_sentiment.ipynb', 'fintech_reviews.db', '__init__.ipynb']\n"
     ]
    },
    {
     "data": {
      "image/png": "[encoded data removed]",
      "text/plain": [
       "<Figure size 640x480 with 1 Axes>"
      ]
     },
     "metadata": {},
     "output_type": "display_data"
    }
   ],
   "source": [
    "import seaborn as sns\n",
    "import matplotlib.pyplot as plt\n",
    "import pandas as pd\n",
    "import os\n",
    "\n",
    "# Check current directory and files\n",
    "print(\"Current directory:\", os.getcwd())\n",
    "print(\"Files in directory:\", os.listdir())\n",
    "\n",
    "# Load the data (adjust path if needed)\n",
    "\n",
    "df = pd.read_csv(\"../data/fintech_reviews_cleaned.csv\")  # Try relative or absolute path\n",
    "\n",
    "# Create the count plot\n",
    "sns.countplot(data=df, x=\"sentiment\", order=[\"positive\", \"neutral\", \"negative\"])\n",
    "\n",
    "# Add titles and labels\n",
    "plt.title(\"Overall Sentiment Distribution\")\n",
    "plt.xlabel(\"Sentiment\")\n",
    "plt.ylabel(\"Count\")\n",
    "\n",
    "# Display the plot\n",
    "plt.show()"
   ]
  },
  {
   "cell_type": "markdown",
   "id": "bc39626d",
   "metadata": {},
   "source": [
    "Sentiment per Bank"
   ]
  },
  {
   "cell_type": "code",
   "execution_count": 14,
   "id": "52bdd8e0",
   "metadata": {},
   "outputs": [
    {
     "data": {
      "image/png": "[encoded data removed]",
      "text/plain": [
       "<Figure size 640x480 with 1 Axes>"
      ]
     },
     "metadata": {},
     "output_type": "display_data"
    }
   ],
   "source": [
    "sns.countplot(data=df, x=\"bank\", hue=\"sentiment\", order=df[\"bank\"].value_counts().index)\n",
    "plt.title(\"Sentiment by Bank\")\n",
    "plt.xlabel(\"Bank\")\n",
    "plt.ylabel(\"Review Count\")\n",
    "plt.legend(title=\"Sentiment\")\n",
    "plt.xticks(rotation=45)\n",
    "plt.tight_layout()\n",
    "plt.show()\n"
   ]
  },
  {
   "cell_type": "markdown",
   "id": "bbae68cc",
   "metadata": {},
   "source": [
    "Sentiment Over Time"
   ]
  },
  {
   "cell_type": "code",
   "execution_count": 15,
   "id": "e1dd524c",
   "metadata": {},
   "outputs": [
    {
     "data": {
      "image/png": "[encoded data removed]",
      "text/plain": [
       "<Figure size 1200x600 with 1 Axes>"
      ]
     },
     "metadata": {},
     "output_type": "display_data"
    }
   ],
   "source": [
    "df[\"date\"] = pd.to_datetime(df[\"date\"])\n",
    "daily_sentiment = df.groupby([df[\"date\"].dt.date, \"sentiment\"]).size().unstack().fillna(0)\n",
    "\n",
    "daily_sentiment.plot(kind=\"line\", figsize=(12, 6))\n",
    "plt.title(\"Sentiment Trend Over Time\")\n",
    "plt.xlabel(\"Date\")\n",
    "plt.ylabel(\"Number of Reviews\")\n",
    "plt.legend(title=\"Sentiment\")\n",
    "plt.grid(True)\n",
    "plt.tight_layout()\n",
    "plt.show()\n"
   ]
  },
  {
   "cell_type": "markdown",
   "id": "4556d3e4",
   "metadata": {},
   "source": [
    "Save the Cleaned Dataset for Power BI"
   ]
  },
  {
   "cell_type": "code",
   "execution_count": 16,
   "id": "e46b05c4",
   "metadata": {},
   "outputs": [],
   "source": [
    "df[[\"review\", \"rating\", \"date\", \"bank\", \"source\", \"sentiment\", \"clean_review\"]].to_csv(\"../data/cleaned_reviews.csv\", index=False)\n"
   ]
  },
  {
   "cell_type": "code",
   "execution_count": 17,
   "id": "9b201bad",
   "metadata": {},
   "outputs": [
    {
     "name": "stderr",
     "output_type": "stream",
     "text": [
      "[nltk_data] Error loading stopwords: <urlopen error [Errno 11001]\n",
      "[nltk_data]     getaddrinfo failed>\n"
     ]
    }
   ],
   "source": [
    "import nltk\n",
    "from nltk.corpus import stopwords\n",
    "from nltk.util import ngrams\n",
    "from collections import Counter\n",
    "import matplotlib.pyplot as plt\n",
    "\n",
    "nltk.download('stopwords')\n",
    "stop_words = set(stopwords.words('english'))\n"
   ]
  },
  {
   "cell_type": "markdown",
   "id": "e08f64ec",
   "metadata": {},
   "source": [
    "Preprocess Reviews for Word Frequency"
   ]
  },
  {
   "cell_type": "code",
   "execution_count": 18,
   "id": "6ec3fd41",
   "metadata": {},
   "outputs": [
    {
     "name": "stdout",
     "output_type": "stream",
     "text": [
      "Current directory: c:\\Users\\ads\\Desktop\\Week 2\\fintech-cx\\notebooks\n",
      "Files in directory: ['01_cleaning_and_sentiment.ipynb', 'fintech_reviews.db', '__init__.ipynb']\n"
     ]
    },
    {
     "data": {
      "image/png": "[encoded data removed]",
      "text/plain": [
       "<Figure size 640x480 with 1 Axes>"
      ]
     },
     "metadata": {},
     "output_type": "display_data"
    }
   ],
   "source": [
    "import seaborn as sns\n",
    "import matplotlib.pyplot as plt\n",
    "import pandas as pd\n",
    "import os\n",
    "from nltk.corpus import stopwords\n",
    "\n",
    "# Check current directory and files\n",
    "print(\"Current directory:\", os.getcwd())\n",
    "print(\"Files in directory:\", os.listdir())\n",
    "\n",
    "# Load the data (adjust path if needed)\n",
    "df = pd.read_csv(\"../data/fintech_reviews_cleaned.csv\")\n",
    "\n",
    "# Define stop words\n",
    "stop_words = set(stopwords.words('english'))\n",
    "\n",
    "# Define tokenize function\n",
    "def tokenize(text):\n",
    "    if pd.isna(text):\n",
    "        return []\n",
    "    if not isinstance(text, str):\n",
    "        text = str(text)\n",
    "    tokens = text.lower().split()\n",
    "    return [word for word in tokens if word.isalpha() and word not in stop_words]\n",
    "\n",
    "# Apply tokenize function\n",
    "df[\"tokens\"] = df[\"clean_review\"].apply(tokenize)\n",
    "\n",
    "# Create the count plot (using sentiment, not tokens directly)\n",
    "sns.countplot(data=df, x=\"sentiment\", order=[\"positive\", \"neutral\", \"negative\"])\n",
    "\n",
    "# Add titles and labels\n",
    "plt.title(\"Overall Sentiment Distribution\")\n",
    "plt.xlabel(\"Sentiment\")\n",
    "plt.ylabel(\"Count\")\n",
    "\n",
    "# Display the plot\n",
    "plt.show()"
   ]
  },
  {
   "cell_type": "markdown",
   "id": "b32ca69a",
   "metadata": {},
   "source": [
    "Top Words by Sentiment"
   ]
  },
  {
   "cell_type": "code",
   "execution_count": 19,
   "id": "ef79afd8",
   "metadata": {},
   "outputs": [
    {
     "name": "stdout",
     "output_type": "stream",
     "text": [
      "\n",
      "Top words for positive:\n",
      "app: 353\n",
      "good: 198\n",
      "best: 122\n",
      "bank: 97\n",
      "dashen: 97\n",
      "banking: 89\n",
      "nice: 72\n",
      "super: 71\n",
      "one: 69\n",
      "use: 60\n",
      "\n",
      "Top words for neutral:\n",
      "good: 19\n",
      "app: 15\n",
      "please: 6\n",
      "fix: 6\n",
      "like: 6\n",
      "dont: 5\n",
      "update: 5\n",
      "time: 5\n",
      "easy: 5\n",
      "use: 5\n",
      "\n",
      "Top words for negative:\n",
      "app: 204\n",
      "bank: 54\n",
      "work: 44\n",
      "banking: 41\n",
      "worst: 37\n",
      "mobile: 35\n",
      "working: 32\n",
      "please: 31\n",
      "ever: 30\n",
      "even: 30\n"
     ]
    }
   ],
   "source": [
    "def get_top_words(data, sentiment, n=10):\n",
    "    words = [word for tokens in data[data[\"sentiment\"] == sentiment][\"tokens\"] for word in tokens]\n",
    "    return Counter(words).most_common(n)\n",
    "\n",
    "for sentiment in [\"positive\", \"neutral\", \"negative\"]:\n",
    "    top = get_top_words(df, sentiment)\n",
    "    print(f\"\\nTop words for {sentiment}:\")\n",
    "    for word, count in top:\n",
    "        print(f\"{word}: {count}\")\n"
   ]
  },
  {
   "cell_type": "markdown",
   "id": "f2388503",
   "metadata": {},
   "source": [
    "Top Bigrams (2-word phrases)"
   ]
  },
  {
   "cell_type": "code",
   "execution_count": 20,
   "id": "e2d6d32d",
   "metadata": {},
   "outputs": [
    {
     "name": "stdout",
     "output_type": "stream",
     "text": [
      "\n",
      "Top bigrams for positive reviews:\n",
      "dashen bank: 54\n",
      "best app: 46\n",
      "super app: 43\n",
      "good app: 33\n",
      "easy use: 29\n",
      "mobile banking: 26\n",
      "one step: 24\n",
      "banking app: 22\n",
      "dashen super: 21\n",
      "step ahead: 18\n",
      "\n",
      "Top bigrams for negative reviews:\n",
      "mobile banking: 26\n",
      "doesnt work: 20\n",
      "app ever: 17\n",
      "banking app: 14\n",
      "worst app: 14\n",
      "developer options: 10\n",
      "turn developer: 8\n",
      "worst mobile: 8\n",
      "developer mode: 7\n",
      "dont know: 7\n"
     ]
    }
   ],
   "source": [
    "def get_top_bigrams(data, sentiment, n=10):\n",
    "    all_bigrams = []\n",
    "    for tokens in data[data[\"sentiment\"] == sentiment][\"tokens\"]:\n",
    "        bigrams = list(ngrams(tokens, 2))\n",
    "        all_bigrams.extend(bigrams)\n",
    "    return Counter(all_bigrams).most_common(n)\n",
    "\n",
    "for sentiment in [\"positive\", \"negative\"]:\n",
    "    print(f\"\\nTop bigrams for {sentiment} reviews:\")\n",
    "    for bigram, count in get_top_bigrams(df, sentiment):\n",
    "        print(f\"{' '.join(bigram)}: {count}\")\n"
   ]
  },
  {
   "cell_type": "markdown",
   "id": "68286964",
   "metadata": {},
   "source": [
    "Task 3"
   ]
  },
  {
   "cell_type": "markdown",
   "id": "a2554933",
   "metadata": {},
   "source": [
    "Load CSV to Oracle"
   ]
  },
  {
   "cell_type": "code",
   "execution_count": 42,
   "id": "42f0f596",
   "metadata": {},
   "outputs": [
    {
     "name": "stdout",
     "output_type": "stream",
     "text": [
      "✅ Table recreated successfully.\n"
     ]
    }
   ],
   "source": [
    "import sqlite3\n",
    "\n",
    "# Drop and recreate the table with all expected columns\n",
    "conn = sqlite3.connect(\"fintech_reviews.db\")\n",
    "cursor = conn.cursor()\n",
    "\n",
    "cursor.execute(\"DROP TABLE IF EXISTS fintech_review\")\n",
    "\n",
    "cursor.execute(\"\"\"\n",
    "CREATE TABLE fintech_review (\n",
    "    id INTEGER PRIMARY KEY AUTOINCREMENT,\n",
    "    review TEXT,\n",
    "    rating INTEGER,\n",
    "    date TEXT,\n",
    "    bank TEXT,\n",
    "    source TEXT,\n",
    "    sentiment TEXT,\n",
    "    clean_review TEXT\n",
    ")\n",
    "\"\"\")\n",
    "\n",
    "conn.commit()\n",
    "conn.close()\n",
    "\n",
    "print(\"✅ Table recreated successfully.\")\n"
   ]
  },
  {
   "cell_type": "markdown",
   "id": "37edc4ee",
   "metadata": {},
   "source": [
    "Modify the Table to Include All Fields"
   ]
  },
  {
   "cell_type": "code",
   "execution_count": 43,
   "id": "0eaa0979",
   "metadata": {},
   "outputs": [
    {
     "name": "stdout",
     "output_type": "stream",
     "text": [
      "✅ Data inserted and table auto-created.\n"
     ]
    }
   ],
   "source": [
    "conn = sqlite3.connect(\"fintech_reviews.db\")\n",
    "df.to_sql(\"fintech_review\", conn, if_exists=\"replace\", index=False)\n",
    "conn.close()\n",
    "\n",
    "print(\"✅ Data inserted and table auto-created.\")\n"
   ]
  },
  {
   "cell_type": "markdown",
   "id": "446b6262",
   "metadata": {},
   "source": [
    "Insert DataFrame into the SQLite Table"
   ]
  },
  {
   "cell_type": "code",
   "execution_count": 45,
   "id": "8d68698b",
   "metadata": {},
   "outputs": [
    {
     "name": "stdout",
     "output_type": "stream",
     "text": [
      "                                              review  rating  \\\n",
      "0                                               good       5   \n",
      "1                                   it is not safety       1   \n",
      "2                                          NICE bank       5   \n",
      "3                                 abdii.abas ab.musa       3   \n",
      "4  it is like a childish app make it better the w...       1   \n",
      "\n",
      "                  date bank       source sentiment  \\\n",
      "0  2025-06-03 11:32:52  CBE  Google Play  positive   \n",
      "1  2025-06-03 09:14:31  CBE  Google Play  negative   \n",
      "2  2025-06-03 08:42:36  CBE  Google Play  positive   \n",
      "3  2025-06-02 14:46:11  CBE  Google Play   neutral   \n",
      "4  2025-06-02 12:23:42  CBE  Google Play  negative   \n",
      "\n",
      "                                        clean_review  \n",
      "0                                               good  \n",
      "1                                   it is not safety  \n",
      "2                                          nice bank  \n",
      "3                                   abdiiabas abmusa  \n",
      "4  it is like a childish app make it better the w...  \n"
     ]
    }
   ],
   "source": [
    "conn = sqlite3.connect(\"fintech_reviews.db\")\n",
    "df_check = pd.read_sql_query(\"SELECT * FROM fintech_review LIMIT 5\", conn)\n",
    "conn.close()\n",
    "print(df_check)\n"
   ]
  },
  {
   "cell_type": "code",
   "execution_count": 46,
   "id": "9fec3188",
   "metadata": {},
   "outputs": [
    {
     "data": {
      "text/html": [
       "<div>\n",
       "<style scoped>\n",
       "    .dataframe tbody tr th:only-of-type {\n",
       "        vertical-align: middle;\n",
       "    }\n",
       "\n",
       "    .dataframe tbody tr th {\n",
       "        vertical-align: top;\n",
       "    }\n",
       "\n",
       "    .dataframe thead th {\n",
       "        text-align: right;\n",
       "    }\n",
       "</style>\n",
       "<table border=\"1\" class=\"dataframe\">\n",
       "  <thead>\n",
       "    <tr style=\"text-align: right;\">\n",
       "      <th>sentiment</th>\n",
       "      <th>negative</th>\n",
       "      <th>neutral</th>\n",
       "      <th>positive</th>\n",
       "    </tr>\n",
       "    <tr>\n",
       "      <th>bank</th>\n",
       "      <th></th>\n",
       "      <th></th>\n",
       "      <th></th>\n",
       "    </tr>\n",
       "  </thead>\n",
       "  <tbody>\n",
       "    <tr>\n",
       "      <th>Bank of Abyssinia</th>\n",
       "      <td>0.466000</td>\n",
       "      <td>0.068000</td>\n",
       "      <td>0.466000</td>\n",
       "    </tr>\n",
       "    <tr>\n",
       "      <th>CBE</th>\n",
       "      <td>0.138000</td>\n",
       "      <td>0.058000</td>\n",
       "      <td>0.804000</td>\n",
       "    </tr>\n",
       "    <tr>\n",
       "      <th>Dashen Bank</th>\n",
       "      <td>0.114094</td>\n",
       "      <td>0.024609</td>\n",
       "      <td>0.861298</td>\n",
       "    </tr>\n",
       "  </tbody>\n",
       "</table>\n",
       "</div>"
      ],
      "text/plain": [
       "sentiment          negative   neutral  positive\n",
       "bank                                           \n",
       "Bank of Abyssinia  0.466000  0.068000  0.466000\n",
       "CBE                0.138000  0.058000  0.804000\n",
       "Dashen Bank        0.114094  0.024609  0.861298"
      ]
     },
     "execution_count": 46,
     "metadata": {},
     "output_type": "execute_result"
    }
   ],
   "source": [
    "df.groupby(\"bank\")[\"sentiment\"].value_counts(normalize=True).unstack()\n"
   ]
  },
  {
   "cell_type": "code",
   "execution_count": null,
   "id": "4d5e0c51",
   "metadata": {},
   "outputs": [],
   "source": []
  }
 ],
 "metadata": {
  "kernelspec": {
   "display_name": "venv",
   "language": "python",
   "name": "python3"
  },
  "language_info": {
   "codemirror_mode": {
    "name": "ipython",
    "version": 3
   },
   "file_extension": ".py",
   "mimetype": "text/x-python",
   "name": "python",
   "nbconvert_exporter": "python",
   "pygments_lexer": "ipython3",
   "version": "3.13.4"
  }
 },
 "nbformat": 4,
 "nbformat_minor": 5
}
